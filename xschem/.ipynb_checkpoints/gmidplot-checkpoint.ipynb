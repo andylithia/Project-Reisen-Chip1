{
 "cells": [
  {
   "cell_type": "code",
   "execution_count": 1,
   "id": "23d54990",
   "metadata": {},
   "outputs": [],
   "source": [
    "import numpy as np\n",
    "from matplotlib import pyplot as plt\n",
    "import os\n",
    "from matplotlib import cm"
   ]
  },
  {
   "cell_type": "code",
   "execution_count": 2,
   "id": "766fc11d",
   "metadata": {
    "scrolled": false
   },
   "outputs": [
    {
     "name": "stdout",
     "output_type": "stream",
     "text": [
      "# 100 files seen\n"
     ]
    },
    {
     "data": {
      "image/png": "[encoded data removed]",
      "text/plain": [
       "<Figure size 640x480 with 1 Axes>"
      ]
     },
     "metadata": {},
     "output_type": "display_data"
    }
   ],
   "source": [
    "fdir = './gmid_test'\n",
    "flist =  []\n",
    "lwlist = []\n",
    "for fname in os.listdir(fdir):\n",
    "    if fname.startswith('data'):\n",
    "        flist.append(fname)\n",
    "        parts = fname[:-4].split('_') # Strip .raw extension\n",
    "        if len(parts) != 3:\n",
    "            print('Warning: malformed file name: ', fname)\n",
    "        L = float(parts[1][1:])\n",
    "        W = float(parts[2][1:])\n",
    "        lwlist.append((L,W))\n",
    "        \n",
    "# This scatter plot is meant for the user to spot unsupported device sizes\n",
    "plt.scatter(*zip(*lwlist));\n",
    "fcount = len(flist) \n",
    "print('#',fcount,'files seen')"
   ]
  },
  {
   "cell_type": "code",
   "execution_count": 3,
   "id": "d2e40d86",
   "metadata": {
    "scrolled": true
   },
   "outputs": [],
   "source": [
    "vgs_list_all = []\n",
    "cgb_list_all = []\n",
    "cgd_list_all = []\n",
    "cgs_list_all = []\n",
    "gds_list_all = []\n",
    "gm_list_all  = []\n",
    "id_list_all  = []\n",
    "vth_list_all = []\n",
    "\n",
    "\n",
    "for fname in flist:\n",
    "    # Read File\n",
    "    # fname = './data_nfet_01v8_aM01_W1p00L0p15NF1.raw'\n",
    "    f = open(fdir+'/'+fname,'r')\n",
    "    lines = f.readlines()\n",
    "    f.close()\n",
    "    \n",
    "    # Count Lines\n",
    "    count = 0\n",
    "    for line in lines:\n",
    "        count = count + 1\n",
    "        if line.startswith('Values'):\n",
    "            break\n",
    "    # print('Record starting at: ', count)\n",
    "    lines_1 = lines[count:]\n",
    "    \n",
    "    # Populate List\n",
    "    vgs_list = []\n",
    "    cgb_list = []\n",
    "    cgd_list = []\n",
    "    cgs_list = []\n",
    "    gds_list = []\n",
    "    gm_list  = []\n",
    "    id_list  = []\n",
    "    vth_list = []\n",
    "    count = 0\n",
    "    for line in lines_1:\n",
    "        line = line[:-1].split('\\t')\n",
    "        if(len(line)>1):\n",
    "            if(line[0]!=''):\n",
    "                count = 0\n",
    "                # print(line[0])\n",
    "                value = float(line[1])\n",
    "                \n",
    "            elif line[1]!='' :\n",
    "                count = count + 1\n",
    "                value = float(line[1])\n",
    "                \n",
    "            if count == 0:\n",
    "                vgs_list.append(value)\n",
    "            elif count == 1:\n",
    "                cgb_list.append(value)\n",
    "            elif count == 2:\n",
    "                cgd_list.append(value)\n",
    "            elif count == 3:\n",
    "                cgs_list.append(value)\n",
    "            elif count == 4:\n",
    "                gds_list.append(value)\n",
    "            elif count == 5:\n",
    "                gm_list.append(value)\n",
    "            elif count == 6:\n",
    "                id_list.append(value)\n",
    "            elif count == 7:\n",
    "                vth_list.append(value)\n",
    "            else:\n",
    "                print('WTF')\n",
    "                \n",
    "    # Populate top-level list\n",
    "    vgs_list_all.append(vgs_list)\n",
    "    cgb_list_all.append(cgb_list)\n",
    "    cgd_list_all.append(cgd_list)\n",
    "    cgs_list_all.append(cgs_list)\n",
    "    gds_list_all.append(gds_list)\n",
    "    gm_list_all. append(gm_list)\n",
    "    id_list_all. append(id_list)\n",
    "    vth_list_all.append(vth_list)\n",
    "# Convert to np.array\n",
    "\n",
    "vgs_list_all = np.array(vgs_list_all)\n",
    "cgb_list_all = np.array(cgb_list_all)\n",
    "cgd_list_all = np.array(cgd_list_all)\n",
    "cgs_list_all = np.array(cgs_list_all)\n",
    "gds_list_all = np.array(gds_list_all)\n",
    "gm_list_all  = np.array(gm_list_all)\n",
    "id_list_all  = np.array(id_list_all)\n",
    "vth_list_all = np.array(vth_list_all)"
   ]
  },
  {
   "cell_type": "code",
   "execution_count": 1,
   "id": "d842f271",
   "metadata": {
    "scrolled": false
   },
   "outputs": [
    {
     "ename": "NameError",
     "evalue": "name 'plt' is not defined",
     "output_type": "error",
     "traceback": [
      "\u001b[0;31m---------------------------------------------------------------------------\u001b[0m",
      "\u001b[0;31mNameError\u001b[0m                                 Traceback (most recent call last)",
      "Cell \u001b[0;32mIn [1], line 8\u001b[0m\n\u001b[1;32m      1\u001b[0m plot_sel \u001b[38;5;241m=\u001b[39m \u001b[38;5;241m4\u001b[39m\n\u001b[1;32m      3\u001b[0m \u001b[38;5;66;03m# 0: Capacitance\u001b[39;00m\n\u001b[1;32m      4\u001b[0m \u001b[38;5;66;03m# 1: gm/id vs. current density (id/w)\u001b[39;00m\n\u001b[1;32m      5\u001b[0m \u001b[38;5;66;03m# 2: gm/id vs. intrinsic gain (gm/gds)\u001b[39;00m\n\u001b[1;32m      6\u001b[0m \u001b[38;5;66;03m# 3: fT vs. vgs\u001b[39;00m\n\u001b[1;32m      7\u001b[0m \u001b[38;5;66;03m# 4: gm/w vs. vgs\u001b[39;00m\n\u001b[0;32m----> 8\u001b[0m plt\u001b[38;5;241m.\u001b[39mfigure(figsize\u001b[38;5;241m=\u001b[39m[\u001b[38;5;241m8\u001b[39m,\u001b[38;5;241m8\u001b[39m])\n\u001b[1;32m      9\u001b[0m legends \u001b[38;5;241m=\u001b[39m []\n\u001b[1;32m     10\u001b[0m cmap \u001b[38;5;241m=\u001b[39m cm\u001b[38;5;241m.\u001b[39mget_cmap(\u001b[38;5;124m'\u001b[39m\u001b[38;5;124mplasma\u001b[39m\u001b[38;5;124m'\u001b[39m)\n",
      "\u001b[0;31mNameError\u001b[0m: name 'plt' is not defined"
     ]
    }
   ],
   "source": [
    "plot_sel = 4\n",
    "\n",
    "# 0: Capacitance\n",
    "# 1: gm/id vs. current density (id/w)\n",
    "# 2: gm/id vs. intrinsic gain (gm/gds)\n",
    "# 3: fT vs. vgs\n",
    "# 4: gm/w vs. vgs\n",
    "plt.figure(figsize=[8,8])\n",
    "legends = []\n",
    "cmap = cm.get_cmap('plasma')\n",
    "\n",
    "lw = []\n",
    "l1 = []\n",
    "\n",
    "for i in range(len(lwlist)):\n",
    "    color = cmap(i/len(lwlist))\n",
    "    # Reduce the number of plots\n",
    "    lwt = lwlist[i]\n",
    "    L = lwt[0]\n",
    "    W = lwt[1]\n",
    "    # if (L%0.15<0.01) and (W%4<0.1):\n",
    "    if L==0.15:\n",
    "        print('at',i,'L',L,'W',W,'chosen')\n",
    "        # Div by 8\n",
    "        vgs_list = vgs_list_all[i,:]\n",
    "        cgb_list = cgb_list_all[i,:]\n",
    "        cgd_list = cgd_list_all[i,:]\n",
    "        cgs_list = cgs_list_all[i,:]\n",
    "        gds_list = gds_list_all[i,:]\n",
    "        gm_list  = gm_list_all [i,:]\n",
    "        id_list  = id_list_all [i,:]\n",
    "        vth_list = vth_list_all[i,:]\n",
    "        legends.append('L{},W{}'.format(L,W))\n",
    "        \n",
    "        if plot_sel==0:\n",
    "            # plt.plot(vgs_list, -np.array(cgs_list)/W,color=color)\n",
    "            plt.plot(vgs_list, -np.array(cgd_list)/W,color=color)\n",
    "            # plt.plot(vgs_list, -np.array(cgb_list)/W,color=color)\n",
    "        elif plot_sel==1:\n",
    "            plt.semilogy(np.array(gm_list)/np.array(id_list),np.array(id_list)/W,color=color)\n",
    "        elif plot_sel==2:\n",
    "            plt.plot(np.array(gm_list)/np.array(id_list),np.array(gm_list)/np.array(gds_list),color=color)\n",
    "        elif plot_sel==3:\n",
    "            # fT\n",
    "            plt.plot(vgs_list, -gm_list/(2*np.pi*(cgs_list+cgd_list))/1e9, color=color)\n",
    "        elif plot_sel==4:\n",
    "            plt.plot(vgs_list,gm_list/W, color=color)\n",
    "        elif plot_sel==5:\n",
    "            plt.plot(vgs_list-vth_list,id_list,color=color)\n",
    "            \n",
    "            # I hate floating point numbers\n",
    "            for i in range(len(vgs_list)):\n",
    "                if abs(vgs_list[i]-1.2)<0.001:\n",
    "                    lw.append(W)\n",
    "                    l1.append(id_list[i])\n",
    "        \n",
    "        else: \n",
    "            print('Unknown Plot Type')\n",
    "        # plt.plot(vgs_list,np.array(gm_list)/np.array(gds_list))\n",
    "        # plt.plot(vgs_list,id_list)\n",
    "plt.legend(legends)\n",
    "\n",
    "if plot_sel==0:\n",
    "    plt.xlabel('Vgs / V')\n",
    "    plt.ylabel('Capacitance per Unit Width / F/(um)')\n",
    "    plt.title('Unit Capacitance Plot')\n",
    "elif plot_sel==1:\n",
    "    plt.ylabel('Current Density (Ids/W) / A/um')\n",
    "    plt.xlabel('Inversion Factor (gm/Ids)')\n",
    "    plt.title('Current Density vs Inversion Factor')\n",
    "elif plot_sel==2:\n",
    "    plt.ylabel('Intrinsic Gain (gm/gds) / 1')\n",
    "    plt.xlabel('Inversion Factor (gm/Ids)')    \n",
    "    plt.title('Intrinsic Gain vs Inversion Factor')\n",
    "elif plot_sel==3:\n",
    "    plt.xlabel('Vgs / V')\n",
    "    plt.ylabel('Transition Frequency / GHz')\n",
    "    plt.title('Theoretical fT')\n",
    "    \n",
    "elif plot_sel==4:\n",
    "    plt.xlabel('Vgs / V')\n",
    "    plt.ylabel('gm/W')\n",
    "# plt.plot(vgs_list,np.array(gm_list)/np.array(gds_list))\n",
    "# plt.title('Intrinsic Gain Plot of nfet, L=0.15, W=1.00, NF=1')\n",
    "# plt.xlabel('Vgs/V')\n",
    "# plt.ylabel('Intrisic Gain')"
   ]
  },
  {
   "cell_type": "code",
   "execution_count": 5,
   "id": "6a571eb0",
   "metadata": {
    "scrolled": true
   },
   "outputs": [
    {
     "data": {
      "text/plain": [
       "[<matplotlib.lines.Line2D at 0x7fd00e3779a0>]"
      ]
     },
     "execution_count": 5,
     "metadata": {},
     "output_type": "execute_result"
    },
    {
     "data": {
      "image/png": "[encoded data removed]",
      "text/plain": [
       "<Figure size 1300x1300 with 1 Axes>"
      ]
     },
     "metadata": {},
     "output_type": "display_data"
    }
   ],
   "source": [
    "plt.plot(lw,l1,'*')\n"
   ]
  },
  {
   "cell_type": "code",
   "execution_count": 26,
   "id": "abbaec99",
   "metadata": {},
   "outputs": [
    {
     "name": "stdout",
     "output_type": "stream",
     "text": [
      "120\n"
     ]
    }
   ],
   "source": [
    "for i in range(len(vgs_list)):\n",
    "    if (abs(vgs_list[i]-1.2)<0.001):\n",
    "        print(i)"
   ]
  },
  {
   "cell_type": "markdown",
   "id": "445d159c",
   "metadata": {},
   "source": [
    "### Degenerated Common-Source LNA Input Impedance\n",
    "\n",
    "$$Z_{in}=s\\cdot(L_g+L_s)+\\frac{1}{s\\cdot C_{gs}}+gm\\cdot\\frac{L_s}{C_{gs}}$$\n",
    "\n",
    "Velosity saturation happens at ~ 1.2V bias"
   ]
  },
  {
   "cell_type": "markdown",
   "id": "406c1b06",
   "metadata": {},
   "source": [
    "Cgs is approximately 3fF/um at L=0.6, Choose W=10um\n",
    "gm is ~ 0.004 at L=0.6, W~10um, Vgs = 1.2V\n",
    "\n",
    "-> Ls  = 375pH\n",
    "-> Ids = 1.4mA"
   ]
  },
  {
   "cell_type": "code",
   "execution_count": 31,
   "id": "899806aa",
   "metadata": {},
   "outputs": [
    {
     "data": {
      "text/plain": [
       "3.7499999999999995e-10"
      ]
     },
     "execution_count": 31,
     "metadata": {},
     "output_type": "execute_result"
    }
   ],
   "source": [
    "50*30e-15/0.004"
   ]
  },
  {
   "cell_type": "code",
   "execution_count": 5,
   "id": "975b6700",
   "metadata": {
    "scrolled": false
   },
   "outputs": [
    {
     "data": {
      "text/plain": [
       "Text(0, 0.5, 'Caps/F')"
      ]
     },
     "execution_count": 5,
     "metadata": {},
     "output_type": "execute_result"
    },
    {
     "data": {
      "image/png": "[encoded data removed]",
      "text/plain": [
       "<Figure size 936x936 with 1 Axes>"
      ]
     },
     "metadata": {
      "needs_background": "light"
     },
     "output_type": "display_data"
    }
   ],
   "source": [
    "plt.plot(vgs_list, -np.array(cgs_list),'orange')\n",
    "plt.plot(vgs_list, -np.array(cgd_list),'cyan')# Cgd is shorted?\n",
    "plt.plot(vgs_list, -np.array(cgb_list),'magenta') \n",
    "plt.legend(['Cgs','Cgd','Cgb'])\n",
    "plt.xlabel('Vgs/V')\n",
    "plt.ylabel('Caps/F')"
   ]
  },
  {
   "cell_type": "markdown",
   "id": "93abd1e7",
   "metadata": {},
   "source": [
    "$$C_{gs}\\approx4\\times10^{-16} F$$\n",
    "$$C_{gb}\\approx2.5\\times10^{-16} F$$\n",
    "\n",
    "but hey, we're doing an LNA"
   ]
  },
  {
   "cell_type": "markdown",
   "id": "b91f4e85",
   "metadata": {},
   "source": [
    "Gate Impedance:\n",
    "$$r_g\\approx r_{poly0}\\cdot\\frac{W}{L}=48200m\\Omega\\cdot\\frac{1.3}{0.6}=104\\Omega$$\n",
    "\n",
    "Well... This is huge, but we have 20 in parallel\n",
    "$$r_g\\approx5\\Omega$$"
   ]
  },
  {
   "cell_type": "markdown",
   "id": "eb38afbf",
   "metadata": {},
   "source": [
    "$$f_{max}\\approx\\frac{1}{4\\pi}\\cdot\\sqrt{\\frac{\\omega_T}{r_g\\cdot C_{gd}}}$$\n",
    "\n",
    "Let's use $f_T\\approx20GHz$, $\\omega_T=126Grad/s$\n",
    "@ L=0.6, W=20, Cgd=(extremely small)\n",
    "\n",
    "The model is...\n"
   ]
  },
  {
   "cell_type": "markdown",
   "id": "b257549f",
   "metadata": {},
   "source": [
    "$$\\omega_{max}=\\frac{1}{2}\\cdot\\sqrt{\\frac{gm}{r_g\\cdot C_{gd}\\cdot(C_{gs}+C_{gd})}}$$"
   ]
  },
  {
   "cell_type": "code",
   "execution_count": null,
   "id": "29b6d00f",
   "metadata": {},
   "outputs": [],
   "source": []
  }
 ],
 "metadata": {
  "kernelspec": {
   "display_name": "Python 3 (ipykernel)",
   "language": "python",
   "name": "python3"
  },
  "language_info": {
   "codemirror_mode": {
    "name": "ipython",
    "version": 3
   },
   "file_extension": ".py",
   "mimetype": "text/x-python",
   "name": "python",
   "nbconvert_exporter": "python",
   "pygments_lexer": "ipython3",
   "version": "3.10.6"
  }
 },
 "nbformat": 4,
 "nbformat_minor": 5
}
